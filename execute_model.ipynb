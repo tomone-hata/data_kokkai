{
 "cells": [
  {
   "cell_type": "code",
   "execution_count": 1,
   "metadata": {},
   "outputs": [
    {
     "name": "stderr",
     "output_type": "stream",
     "text": [
      "Using TensorFlow backend.\n"
     ]
    }
   ],
   "source": [
    "from utils import *\n",
    "from models import *\n",
    "import pandas as pd\n",
    "from tqdm import tqdm_notebook\n",
    "from keras.utils import to_categorical\n",
    "import numpy as np\n",
    "\n",
    "import re\n",
    "import scipy\n",
    "from sklearn.feature_extraction.text import CountVectorizer\n",
    "from sklearn.feature_extraction.text import TfidfTransformer\n",
    "from sklearn.decomposition import TruncatedSVD"
   ]
  },
  {
   "cell_type": "code",
   "execution_count": 2,
   "metadata": {},
   "outputs": [],
   "source": [
    "classify_dict = {'本会議':0, '厚生労働委員会':1, '国土交通委員会':2, '予算委員会':3}"
   ]
  },
  {
   "cell_type": "code",
   "execution_count": 3,
   "metadata": {},
   "outputs": [
    {
     "data": {
      "text/html": [
       "<div>\n",
       "<style scoped>\n",
       "    .dataframe tbody tr th:only-of-type {\n",
       "        vertical-align: middle;\n",
       "    }\n",
       "\n",
       "    .dataframe tbody tr th {\n",
       "        vertical-align: top;\n",
       "    }\n",
       "\n",
       "    .dataframe thead th {\n",
       "        text-align: right;\n",
       "    }\n",
       "</style>\n",
       "<table border=\"1\" class=\"dataframe\">\n",
       "  <thead>\n",
       "    <tr style=\"text-align: right;\">\n",
       "      <th></th>\n",
       "      <th>houses</th>\n",
       "      <th>committee</th>\n",
       "      <th>speaker</th>\n",
       "      <th>date</th>\n",
       "      <th>speech_order</th>\n",
       "      <th>speech_text</th>\n",
       "    </tr>\n",
       "  </thead>\n",
       "  <tbody>\n",
       "    <tr>\n",
       "      <th>0</th>\n",
       "      <td>衆議院</td>\n",
       "      <td>厚生労働委員会</td>\n",
       "      <td>丹羽秀樹</td>\n",
       "      <td>20161021</td>\n",
       "      <td>1</td>\n",
       "      <td>これより会議を開きます。厚生労働関係の基本施策に関する件について調査を進めます。この際、お諮...</td>\n",
       "    </tr>\n",
       "    <tr>\n",
       "      <th>1</th>\n",
       "      <td>衆議院</td>\n",
       "      <td>厚生労働委員会</td>\n",
       "      <td>丹羽秀樹</td>\n",
       "      <td>20161021</td>\n",
       "      <td>2</td>\n",
       "      <td>御異議なしと認めます。よって、そのように決しました。</td>\n",
       "    </tr>\n",
       "    <tr>\n",
       "      <th>2</th>\n",
       "      <td>衆議院</td>\n",
       "      <td>厚生労働委員会</td>\n",
       "      <td>丹羽秀樹</td>\n",
       "      <td>20161021</td>\n",
       "      <td>3</td>\n",
       "      <td>質疑の申し出がありますので、順次これを許します。田村憲久君。</td>\n",
       "    </tr>\n",
       "    <tr>\n",
       "      <th>3</th>\n",
       "      <td>衆議院</td>\n",
       "      <td>厚生労働委員会</td>\n",
       "      <td>田村憲久</td>\n",
       "      <td>20161021</td>\n",
       "      <td>4</td>\n",
       "      <td>おはようございます。自民党の田村憲久でございます。きょうは、大臣への質疑、所信に対する質疑と...</td>\n",
       "    </tr>\n",
       "    <tr>\n",
       "      <th>4</th>\n",
       "      <td>衆議院</td>\n",
       "      <td>厚生労働委員会</td>\n",
       "      <td>鈴木俊彦</td>\n",
       "      <td>20161021</td>\n",
       "      <td>5</td>\n",
       "      <td>お答え申し上げます。御存じのように、年金は、将来年金を受給いたします現在の若い方たちが現在年...</td>\n",
       "    </tr>\n",
       "  </tbody>\n",
       "</table>\n",
       "</div>"
      ],
      "text/plain": [
       "  houses committee speaker      date  speech_order  \\\n",
       "0    衆議院   厚生労働委員会    丹羽秀樹  20161021             1   \n",
       "1    衆議院   厚生労働委員会    丹羽秀樹  20161021             2   \n",
       "2    衆議院   厚生労働委員会    丹羽秀樹  20161021             3   \n",
       "3    衆議院   厚生労働委員会    田村憲久  20161021             4   \n",
       "4    衆議院   厚生労働委員会    鈴木俊彦  20161021             5   \n",
       "\n",
       "                                         speech_text  \n",
       "0  これより会議を開きます。厚生労働関係の基本施策に関する件について調査を進めます。この際、お諮...  \n",
       "1                         御異議なしと認めます。よって、そのように決しました。  \n",
       "2                     質疑の申し出がありますので、順次これを許します。田村憲久君。  \n",
       "3  おはようございます。自民党の田村憲久でございます。きょうは、大臣への質疑、所信に対する質疑と...  \n",
       "4  お答え申し上げます。御存じのように、年金は、将来年金を受給いたします現在の若い方たちが現在年...  "
      ]
     },
     "metadata": {},
     "output_type": "display_data"
    },
    {
     "name": "stdout",
     "output_type": "stream",
     "text": [
      "train_size: 71529\n"
     ]
    },
    {
     "data": {
      "text/html": [
       "<div>\n",
       "<style scoped>\n",
       "    .dataframe tbody tr th:only-of-type {\n",
       "        vertical-align: middle;\n",
       "    }\n",
       "\n",
       "    .dataframe tbody tr th {\n",
       "        vertical-align: top;\n",
       "    }\n",
       "\n",
       "    .dataframe thead th {\n",
       "        text-align: right;\n",
       "    }\n",
       "</style>\n",
       "<table border=\"1\" class=\"dataframe\">\n",
       "  <thead>\n",
       "    <tr style=\"text-align: right;\">\n",
       "      <th></th>\n",
       "      <th>houses</th>\n",
       "      <th>committee</th>\n",
       "      <th>speaker</th>\n",
       "      <th>date</th>\n",
       "      <th>speech_order</th>\n",
       "      <th>speech_text</th>\n",
       "    </tr>\n",
       "  </thead>\n",
       "  <tbody>\n",
       "    <tr>\n",
       "      <th>0</th>\n",
       "      <td>衆議院</td>\n",
       "      <td>厚生労働委員会</td>\n",
       "      <td>高鳥修一</td>\n",
       "      <td>20180427</td>\n",
       "      <td>1</td>\n",
       "      <td>これより会議を開きます。開会に先立ちまして、立憲民主党・市民クラブ、希望の党・無所属クラブ、...</td>\n",
       "    </tr>\n",
       "    <tr>\n",
       "      <th>1</th>\n",
       "      <td>衆議院</td>\n",
       "      <td>厚生労働委員会</td>\n",
       "      <td>高鳥修一</td>\n",
       "      <td>20180427</td>\n",
       "      <td>2</td>\n",
       "      <td>速記を起こしてください。理事をして再度御出席を要請させましたが、立憲民主党・市民クラブ、希望...</td>\n",
       "    </tr>\n",
       "    <tr>\n",
       "      <th>2</th>\n",
       "      <td>衆議院</td>\n",
       "      <td>厚生労働委員会</td>\n",
       "      <td>高鳥修一</td>\n",
       "      <td>20180427</td>\n",
       "      <td>3</td>\n",
       "      <td>御異議なしと認めます。よって、そのように決しました。</td>\n",
       "    </tr>\n",
       "    <tr>\n",
       "      <th>3</th>\n",
       "      <td>衆議院</td>\n",
       "      <td>厚生労働委員会</td>\n",
       "      <td>高鳥修一</td>\n",
       "      <td>20180427</td>\n",
       "      <td>4</td>\n",
       "      <td>質疑の申出がありますので、順次これを許します。船橋利実君。</td>\n",
       "    </tr>\n",
       "    <tr>\n",
       "      <th>4</th>\n",
       "      <td>衆議院</td>\n",
       "      <td>厚生労働委員会</td>\n",
       "      <td>船橋利実</td>\n",
       "      <td>20180427</td>\n",
       "      <td>5</td>\n",
       "      <td>おはようございます。自由民主党の船橋利実でございます。二期目復帰をさせていただきまして、初め...</td>\n",
       "    </tr>\n",
       "  </tbody>\n",
       "</table>\n",
       "</div>"
      ],
      "text/plain": [
       "  houses committee speaker      date  speech_order  \\\n",
       "0    衆議院   厚生労働委員会    高鳥修一  20180427             1   \n",
       "1    衆議院   厚生労働委員会    高鳥修一  20180427             2   \n",
       "2    衆議院   厚生労働委員会    高鳥修一  20180427             3   \n",
       "3    衆議院   厚生労働委員会    高鳥修一  20180427             4   \n",
       "4    衆議院   厚生労働委員会    船橋利実  20180427             5   \n",
       "\n",
       "                                         speech_text  \n",
       "0  これより会議を開きます。開会に先立ちまして、立憲民主党・市民クラブ、希望の党・無所属クラブ、...  \n",
       "1  速記を起こしてください。理事をして再度御出席を要請させましたが、立憲民主党・市民クラブ、希望...  \n",
       "2                         御異議なしと認めます。よって、そのように決しました。  \n",
       "3                      質疑の申出がありますので、順次これを許します。船橋利実君。  \n",
       "4  おはようございます。自由民主党の船橋利実でございます。二期目復帰をさせていただきまして、初め...  "
      ]
     },
     "metadata": {},
     "output_type": "display_data"
    },
    {
     "name": "stdout",
     "output_type": "stream",
     "text": [
      "test_size: 45266\n"
     ]
    }
   ],
   "source": [
    "df_train = pd.read_csv('./train.csv', header=0, sep='\\t')\n",
    "df_test  = pd.read_csv('./test.csv', header=0, sep='\\t')\n",
    "display(df_train.head())\n",
    "print('train_size: %i' % len(df_train))\n",
    "display(df_test.head())\n",
    "print('test_size: %i' % len(df_test))"
   ]
  },
  {
   "cell_type": "markdown",
   "metadata": {},
   "source": [
    "# 前処理を実施する\n",
    "mecabを用いた分かち書きを実施する。"
   ]
  },
  {
   "cell_type": "code",
   "execution_count": null,
   "metadata": {},
   "outputs": [],
   "source": [
    "ma = Mecab_Analysis(dic_path='/usr/local/lib/mecab/dic/mecab-ipadic-neologd')"
   ]
  },
  {
   "cell_type": "code",
   "execution_count": null,
   "metadata": {},
   "outputs": [],
   "source": [
    "#名詞、動詞、形容詞以外を外すために使用するタプル。\n",
    "inflection_accept = ('名詞', '動詞', '形容詞')\n",
    "train_text = df_train['speech_text'].values.tolist()\n",
    "test_text  = df_test['speech_text'].values.tolist()\n",
    "\n",
    "df_train_ma = pd.DataFrame([' '.join([y[-3] if y[1] in inflection_tapple else y[0] for y in ma.Morphological_Analysis(x) if y[1] in inflection_accept]) \\\n",
    "                            for x in  tqdm_notebook(train_text)],\\\n",
    "                            columns=['speech_text_ma'])\n",
    "df_test_ma  = pd.DataFrame([' '.join([y[-3] if y[1] in inflection_tapple else y[0] for y in ma.Morphological_Analysis(x) if y[1] in inflection_accept]) \\\n",
    "                            for x in  tqdm_notebook(test_text)],\\\n",
    "                           columns=['speech_text_ma'])\n",
    "\n",
    "df_train = pd.concat((df_train, df_train_ma), axis=1)\n",
    "df_test = pd.concat((df_test, df_test_ma), axis=1)\n",
    "\n",
    "display(df_train.head())\n",
    "display(df_test.head())\n",
    "del df_train_ma\n",
    "del df_test_ma"
   ]
  },
  {
   "cell_type": "code",
   "execution_count": null,
   "metadata": {},
   "outputs": [],
   "source": [
    "x_train_text = df_train['speech_text_ma'].values.tolist()\n",
    "x_test_text  = df_test['speech_text_ma'].values.tolist()\n",
    "\n",
    "y_train = [classify_dict[x] for x in df_train['committee'].values.tolist()]\n",
    "y_test  = [classify_dict[x] for x in df_test['committee'].values.tolist()]"
   ]
  },
  {
   "cell_type": "code",
   "execution_count": null,
   "metadata": {},
   "outputs": [],
   "source": [
    "corpus = x_train_text + x_test_text\n",
    "train_size= len(x_train_text)\n",
    "\n",
    "cv = CountVectorizer()\n",
    "wc = cv.fit_transform(corpus)\n",
    "ttf = TfidfTransformer()\n",
    "tfidf = ttf.fit_transform(wc)\n",
    "print(tfidf.shape)"
   ]
  },
  {
   "cell_type": "code",
   "execution_count": null,
   "metadata": {},
   "outputs": [],
   "source": [
    "svd = TruncatedSVD(n_components=4096, n_iter=3)\n",
    "tfidf_svd = svd.fit_transform(tfidf)\n",
    "\n",
    "x_train = tfidf_svd[:train_size,:]\n",
    "x_test = tfidf_svd[train_size:,:]\n",
    "print(x_train.shape)\n",
    "print(x_test.shape)\n",
    "print(np.sum(svd.explained_variance_ratio_))"
   ]
  },
  {
   "cell_type": "code",
   "execution_count": null,
   "metadata": {},
   "outputs": [],
   "source": [
    "#ニューラルネット 用にone-hotベクトルを作成する。\n",
    "y_labels = y_train + y_test\n",
    "y_labels_one_hot = to_categorical(y_labels)\n",
    "y_train = y_labels_one_hot[:train_size]\n",
    "y_test = y_labels_one_hot[train_size:]\n",
    "del y_labels\n",
    "del y_labels_one_hot"
   ]
  },
  {
   "cell_type": "code",
   "execution_count": null,
   "metadata": {},
   "outputs": [],
   "source": [
    "train_len = int(x_train.shape[0] * 0.8)\n",
    "x_train_nn = x_train[:train_len]\n",
    "y_train_nn = y_train[:train_len]\n",
    "x_valid_nn = x_train[train_len:]\n",
    "y_valid_nn = y_train[train_len:]"
   ]
  },
  {
   "cell_type": "code",
   "execution_count": null,
   "metadata": {},
   "outputs": [],
   "source": [
    "sn = Simplenn(x_train.shape[1], len(classify_dict), hidden_size=[512,256], batch_size=32, \\\n",
    "                 learning_rate=0.001, epochs=5, dropuout=0.2)\n",
    "train_len = int(x_train.shape[0] * 0.8)\n",
    "\n",
    "sn.train(x_train_nn, y_train_nn, x_valid_nn, y_valid_nn)\n",
    "sn.test(x_test, y_test)"
   ]
  },
  {
   "cell_type": "markdown",
   "metadata": {},
   "source": [
    "# 以下の条件を設ける\n",
    "\n",
    "1. 苗字と名前の間などに全角スペースが入っているケースがあるので全角スペースを取り除く  \n",
    "2. 数字や人名を適当なものに置き換える。  \n",
    "→数字は全て1に置き換える。人名については一律「佐村河内守」に置き換える。  \n",
    "3. 日付については意味をなさないので全て適当なものに置き換える。  \n",
    "→日付については「1年1月1日」に置き換える。 \n",
    "4. stopwaordを設ける"
   ]
  },
  {
   "cell_type": "code",
   "execution_count": null,
   "metadata": {},
   "outputs": [],
   "source": [
    "ma = Mecab_Analysis(dic_path='/usr/local/lib/mecab/dic/mecab-ipadic-neologd')\n",
    "df_train, df_test = dalete_text_ma_column(df_train, df_test)\n",
    "\n",
    "inflection_tapple = ('動詞', '形容詞')\n",
    "#名詞、動詞、形容詞以外を外すために使用するタプル。\n",
    "inflection_accept = ('名詞', '動詞', '形容詞')\n",
    "train_text = df_train['speech_text'].values.tolist()\n",
    "test_text  = df_test['speech_text'].values.tolist()\n",
    "#全角スペースを削除した状態で形態素解析をする\n",
    "df_train_ma = pd.DataFrame([' '.join([translate_word(y) for y in ma.Morphological_Analysis(re.sub(r'　','',x)) if y[1] in inflection_accept]) \\\n",
    "                            for x in  tqdm_notebook(train_text)],\\\n",
    "                            columns=['speech_text_ma'])\n",
    "df_test_ma  = pd.DataFrame([' '.join([translate_word(y) for y in ma.Morphological_Analysis(re.sub(r'　','',x)) if y[1] in inflection_accept]) \\\n",
    "                            for x in  tqdm_notebook(test_text)],\\\n",
    "                           columns=['speech_text_ma'])\n",
    "\n",
    "df_train = pd.concat((df_train, df_train_ma), axis=1)\n",
    "df_test = pd.concat((df_test, df_test_ma), axis=1)\n",
    "\n",
    "display(df_train.head())\n",
    "display(df_test.head())\n",
    "del df_train_ma\n",
    "del df_test_ma"
   ]
  },
  {
   "cell_type": "code",
   "execution_count": null,
   "metadata": {},
   "outputs": [],
   "source": [
    "x_train_text = df_train['speech_text_ma'].values.tolist()\n",
    "x_test_text  = df_test['speech_text_ma'].values.tolist()\n",
    "\n",
    "y_train = [classify_dict[x] for x in df_train['committee'].values.tolist()]\n",
    "y_test  = [classify_dict[x] for x in df_test['committee'].values.tolist()]"
   ]
  },
  {
   "cell_type": "code",
   "execution_count": null,
   "metadata": {},
   "outputs": [],
   "source": [
    "corpus = x_train_text + x_test_text\n",
    "train_size= len(x_train_text)\n",
    "\n",
    "cv = CountVectorizer(max_df=0.5, min_df=3)\n",
    "wc = cv.fit_transform(corpus)\n",
    "ttf = TfidfTransformer()\n",
    "tfidf = ttf.fit_transform(wc)\n",
    "print(tfidf.shape)"
   ]
  },
  {
   "cell_type": "code",
   "execution_count": null,
   "metadata": {},
   "outputs": [],
   "source": [
    "svd = TruncatedSVD(n_components=4096, n_iter=3)\n",
    "tfidf_svd = svd.fit_transform(tfidf)\n",
    "\n",
    "x_train = tfidf_svd[:train_size,:]\n",
    "x_test = tfidf_svd[train_size:,:]\n",
    "print(x_train.shape)\n",
    "print(x_test.shape)\n",
    "print(np.sum(svd.explained_variance_ratio_))"
   ]
  },
  {
   "cell_type": "code",
   "execution_count": null,
   "metadata": {},
   "outputs": [],
   "source": [
    "#ニューラルネット 用にone-hotベクトルを作成する。\n",
    "y_labels = y_train + y_test\n",
    "y_labels_one_hot = to_categorical(y_labels)\n",
    "y_train = y_labels_one_hot[:train_size]\n",
    "y_test = y_labels_one_hot[train_size:]\n",
    "del y_labels\n",
    "del y_labels_one_hot"
   ]
  },
  {
   "cell_type": "code",
   "execution_count": null,
   "metadata": {},
   "outputs": [],
   "source": [
    "train_len = int(x_train.shape[0] * 0.8)\n",
    "x_train_nn = x_train[:train_len]\n",
    "y_train_nn = y_train[:train_len]\n",
    "x_valid_nn = x_train[train_len:]\n",
    "y_valid_nn = y_train[train_len:]"
   ]
  },
  {
   "cell_type": "code",
   "execution_count": null,
   "metadata": {},
   "outputs": [],
   "source": [
    "sn = Simplenn(x_train.shape[1], len(classify_dict), hidden_size=[512,256], batch_size=32, \\\n",
    "                 learning_rate=0.001, epochs=5, dropuout=0.2)\n",
    "train_len = int(x_train.shape[0] * 0.8)\n",
    "\n",
    "sn.train(x_train_nn, y_train_nn, x_valid_nn, y_valid_nn)\n",
    "sn.test(x_test, y_test)"
   ]
  },
  {
   "cell_type": "markdown",
   "metadata": {},
   "source": [
    "# 前後の文脈も考慮する"
   ]
  },
  {
   "cell_type": "code",
   "execution_count": null,
   "metadata": {},
   "outputs": [],
   "source": [
    "ma = Mecab_Analysis(dic_path='/usr/local/lib/mecab/dic/mecab-ipadic-neologd')\n",
    "df_train, df_test = dalete_text_ma_column(df_train, df_test)\n",
    "\n",
    "inflection_tapple = ('動詞', '形容詞')\n",
    "#名詞、動詞、形容詞以外を外すために使用するタプル。\n",
    "inflection_accept = ('名詞', '動詞', '形容詞')\n",
    "train_text = df_train['speech_text'].values.tolist()\n",
    "test_text  = df_test['speech_text'].values.tolist()\n",
    "#全角スペースを削除した状態で形態素解析をする\n",
    "df_train_ma = pd.DataFrame([' '.join([translate_word(y) for y in ma.Morphological_Analysis(re.sub(r'　','',x)) if y[1] in inflection_accept]) \\\n",
    "                            for x in  tqdm_notebook(train_text)],\\\n",
    "                            columns=['speech_text_ma'])\n",
    "df_test_ma  = pd.DataFrame([' '.join([translate_word(y) for y in ma.Morphological_Analysis(re.sub(r'　','',x)) if y[1] in inflection_accept]) \\\n",
    "                            for x in  tqdm_notebook(test_text)],\\\n",
    "                           columns=['speech_text_ma'])\n",
    "\n",
    "df_train = pd.concat((df_train, df_train_ma), axis=1)\n",
    "df_test = pd.concat((df_test, df_test_ma), axis=1)\n",
    "\n",
    "display(df_train.head())\n",
    "display(df_test.head())\n",
    "del df_train_ma\n",
    "del df_test_ma"
   ]
  },
  {
   "cell_type": "code",
   "execution_count": null,
   "metadata": {},
   "outputs": [],
   "source": [
    "chunk_size = 15\n",
    "x_train_text, y_train = create_chunk_dataset(df_train, chunk_size=chunk_size)\n",
    "x_test_text, y_test = create_chunk_dataset(df_test, chunk_size=chunk_size)"
   ]
  },
  {
   "cell_type": "code",
   "execution_count": null,
   "metadata": {},
   "outputs": [],
   "source": [
    "corpus = x_train_text + x_test_text\n",
    "train_size= len(x_train_text)\n",
    "\n",
    "cv = CountVectorizer(max_df=0.5, min_df=chunk_size*2+1)\n",
    "wc = cv.fit_transform(corpus)\n",
    "ttf = TfidfTransformer()\n",
    "tfidf = ttf.fit_transform(wc)\n",
    "print(tfidf.shape)"
   ]
  },
  {
   "cell_type": "code",
   "execution_count": null,
   "metadata": {},
   "outputs": [],
   "source": [
    "x_test_text[2]"
   ]
  },
  {
   "cell_type": "code",
   "execution_count": null,
   "metadata": {},
   "outputs": [],
   "source": [
    "svd = TruncatedSVD(n_components=4096, n_iter=3)\n",
    "tfidf_svd = svd.fit_transform(tfidf)\n",
    "\n",
    "x_train = tfidf_svd[:train_size,:]\n",
    "x_test = tfidf_svd[train_size:,:]\n",
    "print(x_train.shape)\n",
    "print(x_test.shape)\n",
    "print(np.sum(svd.explained_variance_ratio_))"
   ]
  },
  {
   "cell_type": "code",
   "execution_count": null,
   "metadata": {},
   "outputs": [],
   "source": [
    "#ニューラルネット 用にone-hotベクトルを作成する。\n",
    "y_train = [classify_dict[x] for x in df_train['committee'].values.tolist()]\n",
    "y_test  = [classify_dict[x] for x in df_test['committee'].values.tolist()]\n",
    "y_labels = y_train + y_test\n",
    "y_labels_one_hot = to_categorical(y_labels)\n",
    "y_train = y_labels_one_hot[:train_size]\n",
    "y_test = y_labels_one_hot[train_size:]\n",
    "del y_labels\n",
    "del y_labels_one_hot"
   ]
  },
  {
   "cell_type": "code",
   "execution_count": null,
   "metadata": {},
   "outputs": [],
   "source": [
    "train_len = int(x_train.shape[0] * 0.8)\n",
    "x_train_nn = x_train[:train_len]\n",
    "y_train_nn = y_train[:train_len]\n",
    "x_valid_nn = x_train[train_len:]\n",
    "y_valid_nn = y_train[train_len:]"
   ]
  },
  {
   "cell_type": "code",
   "execution_count": null,
   "metadata": {},
   "outputs": [],
   "source": [
    "sn = Simplenn(x_train.shape[1], len(classify_dict), hidden_size=[512,256], batch_size=32, \\\n",
    "                 learning_rate=0.001, epochs=5, dropuout=0.9)\n",
    "train_len = int(x_train.shape[0] * 0.8)\n",
    "\n",
    "sn.train(x_train_nn, y_train_nn, x_valid_nn, y_valid_nn)\n",
    "sn.test(x_test, y_test)"
   ]
  },
  {
   "cell_type": "code",
   "execution_count": null,
   "metadata": {},
   "outputs": [],
   "source": []
  }
 ],
 "metadata": {
  "kernelspec": {
   "display_name": "Python 3",
   "language": "python",
   "name": "python3"
  },
  "language_info": {
   "codemirror_mode": {
    "name": "ipython",
    "version": 3
   },
   "file_extension": ".py",
   "mimetype": "text/x-python",
   "name": "python",
   "nbconvert_exporter": "python",
   "pygments_lexer": "ipython3",
   "version": "3.6.5"
  }
 },
 "nbformat": 4,
 "nbformat_minor": 2
}
